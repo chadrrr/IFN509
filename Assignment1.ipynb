{
 "cells": [
  {
   "cell_type": "code",
   "execution_count": 2,
   "metadata": {},
   "outputs": [
    {
     "name": "stdout",
     "output_type": "stream",
     "text": [
      "<class 'pandas.core.frame.DataFrame'>\n",
      "RangeIndex: 51766 entries, 0 to 51765\n",
      "Data columns (total 37 columns):\n",
      "encounter_id                51766 non-null int64\n",
      "patient_nbr                 51766 non-null int64\n",
      "race                        51766 non-null object\n",
      "gender                      51766 non-null object\n",
      "age                         51766 non-null object\n",
      "weight                      51766 non-null object\n",
      "admission_type_id           51766 non-null int64\n",
      "discharge_disposition_id    51766 non-null int64\n",
      "admission_source_id         51766 non-null int64\n",
      "time_in_hospital            51766 non-null int64\n",
      "payer_code                  51766 non-null object\n",
      "medical_specialty           51766 non-null object\n",
      "num_lab_procedures          51766 non-null int64\n",
      "num_procedures              51766 non-null int64\n",
      "num_medications             51766 non-null int64\n",
      "number_outpatient           51766 non-null int64\n",
      "number_emergency            51766 non-null int64\n",
      "number_inpatient            51766 non-null int64\n",
      "diag_1                      51766 non-null object\n",
      "diag_2                      51766 non-null object\n",
      "diag_3                      51766 non-null object\n",
      "number_diagnoses            51766 non-null int64\n",
      "max_glu_serum               51766 non-null object\n",
      "A1Cresult                   51766 non-null object\n",
      "metformin                   51766 non-null object\n",
      "repaglinide                 51766 non-null object\n",
      "nateglinide                 51766 non-null object\n",
      "chlorpropamide              51766 non-null object\n",
      "glimepiride                 51766 non-null object\n",
      "acetohexamide               51766 non-null object\n",
      "glipizide                   51766 non-null object\n",
      "glyburide                   51766 non-null object\n",
      "tolbutamide                 51766 non-null object\n",
      "insulin                     51766 non-null object\n",
      "change                      51766 non-null object\n",
      "diabetesMed                 51766 non-null object\n",
      "readmitted                  51766 non-null object\n",
      "dtypes: int64(13), object(24)\n",
      "memory usage: 14.6+ MB\n",
      "None\n"
     ]
    }
   ],
   "source": [
    "import pandas as pd\n",
    "# read the veteran dataset\n",
    "df = pd.read_csv('D1.csv')\n",
    "# show all columns information\n",
    "print(df.info())"
   ]
  },
  {
   "cell_type": "code",
   "execution_count": 32,
   "metadata": {},
   "outputs": [],
   "source": [
    "# change change into binary 0/1 variable\n",
    "change_map = {'change':0, 'no change': 1}\n",
    "df['change'] = df['change'].map(change_map)"
   ]
  },
  {
   "cell_type": "code",
   "execution_count": 33,
   "metadata": {},
   "outputs": [],
   "source": [
    "# change diabetesMed into binary 0/1 variable\n",
    "diabetesMed_map = {'yes':0, 'no': 1}\n",
    "df['diabetesMed'] = df['diabetesMed'].map(diabetesMed_map)"
   ]
  },
  {
   "cell_type": "code",
   "execution_count": 34,
   "metadata": {},
   "outputs": [
    {
     "name": "stdout",
     "output_type": "stream",
     "text": [
      "<class 'pandas.core.frame.DataFrame'>\n",
      "RangeIndex: 51766 entries, 0 to 51765\n",
      "Data columns (total 37 columns):\n",
      "encounter_id                51766 non-null int64\n",
      "patient_nbr                 51766 non-null int64\n",
      "race                        51766 non-null object\n",
      "gender                      51766 non-null object\n",
      "age                         51766 non-null object\n",
      "weight                      51766 non-null object\n",
      "admission_type_id           51766 non-null int64\n",
      "discharge_disposition_id    51766 non-null int64\n",
      "admission_source_id         51766 non-null int64\n",
      "time_in_hospital            51766 non-null int64\n",
      "payer_code                  51766 non-null object\n",
      "medical_specialty           51766 non-null object\n",
      "num_lab_procedures          51766 non-null int64\n",
      "num_procedures              51766 non-null int64\n",
      "num_medications             51766 non-null int64\n",
      "number_outpatient           51766 non-null int64\n",
      "number_emergency            51766 non-null int64\n",
      "number_inpatient            51766 non-null int64\n",
      "diag_1                      51766 non-null object\n",
      "diag_2                      51766 non-null object\n",
      "diag_3                      51766 non-null object\n",
      "number_diagnoses            51766 non-null int64\n",
      "max_glu_serum               51766 non-null object\n",
      "A1Cresult                   51766 non-null object\n",
      "metformin                   51766 non-null object\n",
      "repaglinide                 51766 non-null object\n",
      "nateglinide                 51766 non-null object\n",
      "chlorpropamide              51766 non-null object\n",
      "glimepiride                 51766 non-null object\n",
      "acetohexamide               51766 non-null object\n",
      "glipizide                   51766 non-null object\n",
      "glyburide                   51766 non-null object\n",
      "tolbutamide                 51766 non-null object\n",
      "insulin                     51766 non-null object\n",
      "change                      0 non-null float64\n",
      "diabetesMed                 0 non-null float64\n",
      "readmitted                  51766 non-null object\n",
      "dtypes: float64(2), int64(13), object(22)\n",
      "memory usage: 14.6+ MB\n",
      "None\n"
     ]
    }
   ],
   "source": [
    "print(df.info())"
   ]
  },
  {
   "cell_type": "code",
   "execution_count": 3,
   "metadata": {},
   "outputs": [],
   "source": [
    "import numpy as np\n",
    "df2 = df.select_dtypes(include=[np.number]) "
   ]
  },
  {
   "cell_type": "code",
   "execution_count": 4,
   "metadata": {},
   "outputs": [
    {
     "data": {
      "text/plain": [
       "encounter_id                2.445955e+08\n",
       "patient_nbr                 7.181953e+07\n",
       "admission_type_id           1.820287e+00\n",
       "discharge_disposition_id    3.166905e+00\n",
       "admission_source_id         5.201271e+00\n",
       "time_in_hospital            4.237337e+00\n",
       "num_lab_procedures          4.385320e+01\n",
       "num_procedures              1.308214e+00\n",
       "num_medications             1.673585e+01\n",
       "number_outpatient           5.128463e-01\n",
       "number_emergency            2.691728e-01\n",
       "number_inpatient            6.868794e-01\n",
       "number_diagnoses            7.928486e+00\n",
       "dtype: float64"
      ]
     },
     "execution_count": 4,
     "metadata": {},
     "output_type": "execute_result"
    }
   ],
   "source": [
    "df2.mean()"
   ]
  },
  {
   "cell_type": "code",
   "execution_count": 5,
   "metadata": {},
   "outputs": [
    {
     "data": {
      "text/plain": [
       "encounter_id                228334512.0\n",
       "patient_nbr                  70375977.0\n",
       "admission_type_id                   1.0\n",
       "discharge_disposition_id            1.0\n",
       "admission_source_id                 7.0\n",
       "time_in_hospital                    3.0\n",
       "num_lab_procedures                 45.0\n",
       "num_procedures                      1.0\n",
       "num_medications                    16.0\n",
       "number_outpatient                   0.0\n",
       "number_emergency                    0.0\n",
       "number_inpatient                    0.0\n",
       "number_diagnoses                    9.0\n",
       "dtype: float64"
      ]
     },
     "execution_count": 5,
     "metadata": {},
     "output_type": "execute_result"
    }
   ],
   "source": [
    "df2.median()"
   ]
  },
  {
   "cell_type": "code",
   "execution_count": 6,
   "metadata": {
    "scrolled": true
   },
   "outputs": [
    {
     "data": {
      "text/html": [
       "<div>\n",
       "<style scoped>\n",
       "    .dataframe tbody tr th:only-of-type {\n",
       "        vertical-align: middle;\n",
       "    }\n",
       "\n",
       "    .dataframe tbody tr th {\n",
       "        vertical-align: top;\n",
       "    }\n",
       "\n",
       "    .dataframe thead th {\n",
       "        text-align: right;\n",
       "    }\n",
       "</style>\n",
       "<table border=\"1\" class=\"dataframe\">\n",
       "  <thead>\n",
       "    <tr style=\"text-align: right;\">\n",
       "      <th></th>\n",
       "      <th>encounter_id</th>\n",
       "      <th>patient_nbr</th>\n",
       "      <th>admission_type_id</th>\n",
       "      <th>discharge_disposition_id</th>\n",
       "      <th>admission_source_id</th>\n",
       "      <th>time_in_hospital</th>\n",
       "      <th>num_lab_procedures</th>\n",
       "      <th>num_procedures</th>\n",
       "      <th>num_medications</th>\n",
       "      <th>number_outpatient</th>\n",
       "      <th>number_emergency</th>\n",
       "      <th>number_inpatient</th>\n",
       "      <th>number_diagnoses</th>\n",
       "    </tr>\n",
       "  </thead>\n",
       "  <tbody>\n",
       "    <tr>\n",
       "      <th>0</th>\n",
       "      <td>150645834</td>\n",
       "      <td>88785891.0</td>\n",
       "      <td>1.0</td>\n",
       "      <td>1.0</td>\n",
       "      <td>7.0</td>\n",
       "      <td>3.0</td>\n",
       "      <td>1.0</td>\n",
       "      <td>0.0</td>\n",
       "      <td>15.0</td>\n",
       "      <td>0.0</td>\n",
       "      <td>0.0</td>\n",
       "      <td>0.0</td>\n",
       "      <td>9.0</td>\n",
       "    </tr>\n",
       "  </tbody>\n",
       "</table>\n",
       "</div>"
      ],
      "text/plain": [
       "   encounter_id  patient_nbr  admission_type_id  discharge_disposition_id  \\\n",
       "0     150645834   88785891.0                1.0                       1.0   \n",
       "\n",
       "   admission_source_id  time_in_hospital  num_lab_procedures  num_procedures  \\\n",
       "0                  7.0               3.0                 1.0             0.0   \n",
       "\n",
       "   num_medications  number_outpatient  number_emergency  number_inpatient  \\\n",
       "0             15.0                0.0               0.0               0.0   \n",
       "\n",
       "   number_diagnoses  \n",
       "0               9.0  "
      ]
     },
     "execution_count": 6,
     "metadata": {},
     "output_type": "execute_result"
    }
   ],
   "source": [
    "df2.mode()[0:1]"
   ]
  },
  {
   "cell_type": "code",
   "execution_count": 7,
   "metadata": {},
   "outputs": [
    {
     "name": "stdout",
     "output_type": "stream",
     "text": [
      "gender           readmitted\n",
      "Female           <30           4.524752\n",
      "                 >30           4.465249\n",
      "                 NO            4.207442\n",
      "Male             <30           4.482972\n",
      "                 >30           4.192097\n",
      "                 NO            4.012216\n",
      "Unknown/Invalid  >30           5.000000\n",
      "                 NO            6.333333\n",
      "Name: time_in_hospital, dtype: float64\n"
     ]
    }
   ],
   "source": [
    "# get the average time in hospital of a female patient who was readmitted in less than 30 days\n",
    "print(df.groupby(['gender','readmitted'])['time_in_hospital'].mean())"
   ]
  },
  {
   "cell_type": "code",
   "execution_count": 11,
   "metadata": {},
   "outputs": [
    {
     "name": "stdout",
     "output_type": "stream",
     "text": [
      "age       readmitted\n",
      "?         NO               7\n",
      "          >30              3\n",
      "[0-10)    NO              17\n",
      "          >30              6\n",
      "[10-20)   NO             132\n",
      "          >30             76\n",
      "          <30             15\n",
      "[20-30)   NO             464\n",
      "          >30            230\n",
      "          <30            121\n",
      "[30-40)   NO            1008\n",
      "          >30            522\n",
      "          <30            187\n",
      "[40-50)   NO            2611\n",
      "          >30           1537\n",
      "          <30            471\n",
      "[50-60)   NO            4789\n",
      "          >30           2905\n",
      "          <30            788\n",
      "[60-70)   NO            6270\n",
      "          >30           4074\n",
      "          <30           1274\n",
      "[70-80)   NO            6770\n",
      "          >30           4767\n",
      "          <30           1435\n",
      "[80-90)   NO            4930\n",
      "          >30           3611\n",
      "          <30           1130\n",
      "[90-100)  NO             940\n",
      "          >30            483\n",
      "          <30            193\n",
      "Name: readmitted, dtype: int64\n"
     ]
    }
   ],
   "source": [
    "# Which age group has the highest risk of being readmitted within 30 days?\n",
    "print(df.groupby(['age'])['readmitted'].value_counts())"
   ]
  },
  {
   "cell_type": "code",
   "execution_count": 12,
   "metadata": {},
   "outputs": [
    {
     "name": "stdout",
     "output_type": "stream",
     "text": [
      "readmitted  age     \n",
      "<30         [70-80)     1435\n",
      "            [60-70)     1274\n",
      "            [80-90)     1130\n",
      "            [50-60)      788\n",
      "            [40-50)      471\n",
      "            [90-100)     193\n",
      "            [30-40)      187\n",
      "            [20-30)      121\n",
      "            [10-20)       15\n",
      ">30         [70-80)     4767\n",
      "            [60-70)     4074\n",
      "            [80-90)     3611\n",
      "            [50-60)     2905\n",
      "            [40-50)     1537\n",
      "            [30-40)      522\n",
      "            [90-100)     483\n",
      "            [20-30)      230\n",
      "            [10-20)       76\n",
      "            [0-10)         6\n",
      "            ?              3\n",
      "NO          [70-80)     6770\n",
      "            [60-70)     6270\n",
      "            [80-90)     4930\n",
      "            [50-60)     4789\n",
      "            [40-50)     2611\n",
      "            [30-40)     1008\n",
      "            [90-100)     940\n",
      "            [20-30)      464\n",
      "            [10-20)      132\n",
      "            [0-10)        17\n",
      "            ?              7\n",
      "Name: age, dtype: int64\n"
     ]
    }
   ],
   "source": [
    "# How many age groups have more than 3000 cases of being readmitted\n",
    "print(df.groupby(['readmitted'])['age'].value_counts())"
   ]
  },
  {
   "cell_type": "code",
   "execution_count": 13,
   "metadata": {},
   "outputs": [
    {
     "name": "stdout",
     "output_type": "stream",
     "text": [
      "race             readmitted\n",
      "?                NO              649\n",
      "                 >30             294\n",
      "                 <30              73\n",
      "AfricanAmerican  NO             4540\n",
      "                 >30            2715\n",
      "                 <30             815\n",
      "Asian            NO              258\n",
      "                 >30              82\n",
      "                 <30              38\n",
      "Caucasian        NO            21268\n",
      "                 >30           14616\n",
      "                 <30            4504\n",
      "Hispanic         NO              674\n",
      "                 >30             247\n",
      "                 <30              97\n",
      "Other            NO              549\n",
      "                 >30             260\n",
      "                 <30              87\n",
      "Name: readmitted, dtype: int64\n"
     ]
    }
   ],
   "source": [
    "# Which are the top-three race categories according to the number of readmission cases?\n",
    "print(df.groupby(['race'])['readmitted'].value_counts())"
   ]
  },
  {
   "cell_type": "code",
   "execution_count": 16,
   "metadata": {},
   "outputs": [
    {
     "data": {
      "image/png": "[encoded data removed]",
      "text/plain": [
       "<Figure size 432x288 with 1 Axes>"
      ]
     },
     "metadata": {
      "needs_background": "light"
     },
     "output_type": "display_data"
    }
   ],
   "source": [
    "import matplotlib.pyplot as plt2\n",
    "plt2.scatter(df['readmitted'], df['num_medications'])\n",
    "plt2.title('Correlation')\n",
    "plt2.xlabel('readmitted')\n",
    "plt2.ylabel('num_medications')\n",
    "plt2.show()"
   ]
  },
  {
   "cell_type": "code",
   "execution_count": 17,
   "metadata": {},
   "outputs": [
    {
     "data": {
      "image/png": "[encoded data removed]",
      "text/plain": [
       "<Figure size 432x288 with 2 Axes>"
      ]
     },
     "metadata": {
      "needs_background": "light"
     },
     "output_type": "display_data"
    }
   ],
   "source": [
    "import numpy as np\n",
    "import pandas as pd\n",
    "import matplotlib.pyplot as plt\n",
    "corr = df2.corr()\n",
    "fig = plt.figure()\n",
    "ax = fig.add_subplot(111)\n",
    "cax = ax.matshow(corr,cmap='coolwarm', vmin=-1, vmax=1)\n",
    "fig.colorbar(cax)\n",
    "ticks = np.arange(0,len(df2.columns),1)\n",
    "ax.set_xticks(ticks)\n",
    "plt.xticks(rotation=90)\n",
    "ax.set_yticks(ticks)\n",
    "ax.set_xticklabels(df2.columns)\n",
    "ax.set_yticklabels(df2.columns)\n",
    "plt.show()"
   ]
  },
  {
   "cell_type": "code",
   "execution_count": null,
   "metadata": {},
   "outputs": [],
   "source": []
  }
 ],
 "metadata": {
  "kernelspec": {
   "display_name": "Python 3",
   "language": "python",
   "name": "python3"
  },
  "language_info": {
   "codemirror_mode": {
    "name": "ipython",
    "version": 3
   },
   "file_extension": ".py",
   "mimetype": "text/x-python",
   "name": "python",
   "nbconvert_exporter": "python",
   "pygments_lexer": "ipython3",
   "version": "3.7.3"
  }
 },
 "nbformat": 4,
 "nbformat_minor": 2
}
